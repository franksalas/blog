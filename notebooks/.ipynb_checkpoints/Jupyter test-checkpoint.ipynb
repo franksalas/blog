{
 "cells": [
  {
   "cell_type": "markdown",
   "metadata": {},
   "source": [
    "#  Title\n",
    "\n",
    "\n",
    "\n",
    "### code\n",
    "```python\n",
    "print('hello')\n",
    "```"
   ]
  },
  {
   "cell_type": "code",
   "execution_count": 1,
   "metadata": {},
   "outputs": [
    {
     "name": "stdout",
     "output_type": "stream",
     "text": [
      "hellow\n"
     ]
    }
   ],
   "source": [
    "# code\n",
    "\n",
    "print(\"hellow\")"
   ]
  },
  {
   "cell_type": "code",
   "execution_count": 2,
   "metadata": {},
   "outputs": [],
   "source": [
    "def fill_md(md_temp,title,slug):\n",
    "    today = datetime.today()\n",
    "    md_file= \"content/post/{}.md\".format(slug)\n",
    "    md_post = md_temp.strip().format(title=title,\n",
    "                                    year = today.year,\n",
    "                                    month = '{:02d}'.format(today.month),\n",
    "                                    day = '{:02d}'.format(today.day), \n",
    "                                    slug = slug)\n",
    "    if not os.path.exists(md_file):\n",
    "        with open(md_file, 'w') as w:\n",
    "            w.write(md_post)\n",
    "        print(\"{}\\tCREATED\".format(md_file))\n",
    "    else:\n",
    "        print('{}\\tEXIST'.format(md_file))\n"
   ]
  },
  {
   "cell_type": "code",
   "execution_count": null,
   "metadata": {},
   "outputs": [],
   "source": []
  }
 ],
 "metadata": {
  "kernelspec": {
   "display_name": "Python 3",
   "language": "python",
   "name": "python3"
  },
  "language_info": {
   "codemirror_mode": {
    "name": "ipython",
    "version": 3
   },
   "file_extension": ".py",
   "mimetype": "text/x-python",
   "name": "python",
   "nbconvert_exporter": "python",
   "pygments_lexer": "ipython3",
   "version": "3.6.6"
  }
 },
 "nbformat": 4,
 "nbformat_minor": 2
}
