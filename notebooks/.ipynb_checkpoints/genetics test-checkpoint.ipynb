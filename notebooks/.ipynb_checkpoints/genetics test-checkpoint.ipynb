{
 "cells": [
  {
   "cell_type": "markdown",
   "metadata": {},
   "source": [
    "Minim sunt sunt dolore culpa consequat irure non irure id non fugiat. Quis reprehenderit voluptate cupidatat enim dolore deserunt magna nulla pariatur cupidatat anim laboris incididunt. Aute do quis qui et ullamco proident. Incididunt sint aute dolore sint. Mollit et sit ea consectetur incididunt minim culpa consequat ad ullamco culpa voluptate et ut. Labore consectetur commodo tempor aliquip ea anim est labore est qui ut commodo et.\n",
    "\n",
    "Est aliqua duis tempor excepteur. Esse reprehenderit reprehenderit aliqua aute. Eu esse non voluptate incididunt labore qui amet est id aliquip ea."
   ]
  },
  {
   "cell_type": "code",
   "execution_count": 3,
   "metadata": {},
   "outputs": [],
   "source": [
    "#input:  AAAACCCGGT\n",
    "#output: ACCGGGTTTT\n",
    "# T -> A, A -> T\n",
    "# G -> C, C -> G\n",
    "#code = {'A': 'T','T':'A','C':'G', 'G':'C'}\n",
    "def reverse_code(text):\n",
    "    code = {'A': 'T','T':'A','C':'G', 'G':'C'}\n",
    "    new_text = ''\n",
    "    rev_t = text[::-1]\n",
    "    for i in (rev_t):\n",
    "        if i in code.keys():\n",
    "            new_text += code.get(i)\n",
    "        else:\n",
    "            print('not!')\n",
    "    return new_text"
   ]
  },
  {
   "cell_type": "code",
   "execution_count": 4,
   "metadata": {},
   "outputs": [
    {
     "data": {
      "text/plain": [
       "'ACCGGGTTTT'"
      ]
     },
     "execution_count": 4,
     "metadata": {},
     "output_type": "execute_result"
    }
   ],
   "source": [
    "s_in='AAAACCCGGT'\n",
    "reverse_code(s_in)"
   ]
  },
  {
   "cell_type": "code",
   "execution_count": null,
   "metadata": {},
   "outputs": [],
   "source": []
  }
 ],
 "metadata": {
  "kernelspec": {
   "display_name": "Python 3",
   "language": "python",
   "name": "python3"
  },
  "language_info": {
   "codemirror_mode": {
    "name": "ipython",
    "version": 3
   },
   "file_extension": ".py",
   "mimetype": "text/x-python",
   "name": "python",
   "nbconvert_exporter": "python",
   "pygments_lexer": "ipython3",
   "version": "3.6.6"
  }
 },
 "nbformat": 4,
 "nbformat_minor": 2
}
